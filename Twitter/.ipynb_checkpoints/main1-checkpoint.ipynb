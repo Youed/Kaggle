{
 "cells": [
  {
   "cell_type": "code",
   "execution_count": 29,
   "metadata": {},
   "outputs": [],
   "source": [
    "import os\n",
    "import pandas as pd\n",
    "import numpy as np\n",
    "import nltk\n",
    "import zipfile"
   ]
  },
  {
   "cell_type": "code",
   "execution_count": 30,
   "metadata": {},
   "outputs": [],
   "source": [
    "#申明路径名称\n",
    "dataset_path='./dataset'  # 数据集路径\n",
    "zip_filename = 'twitter-user-gender-classification.zip'  # zip文件名\n",
    "zip_filepath=os.path.join(dataset_path,zip_filename)  #zip文件名\n",
    "clean_datapath='./clean_data.csv'\n",
    "\n",
    "#判断是否第一次运行\n",
    "is_first_run = False\n",
    "\n",
    "\n",
    "def get_dataset_filename(zip_filpath):\n",
    "    '''获取文件名'''\n",
    "    with zipfile.ZipFile(zip_filpath) as zf:\n",
    "        return zf.namelist[0]\n",
    "\n",
    "def unzip(zip_filpath,dest_filepath):\n",
    "    '''解压'''\n",
    "    with zipfile.ZipFile(zip_filepath) as zf:\n",
    "        zf.extractall(path=dest_filepath)"
   ]
  },
  {
   "cell_type": "code",
   "execution_count": 31,
   "metadata": {},
   "outputs": [],
   "source": [
    "def run_main():\n",
    "    '''主函数'''\n",
    "    dataset_filename = get_dataset_filename(zip_filepath)\n",
    "    dataset_filepath = os.path.join(dataset_path,dataset_filename)\n",
    "    if is_first_run:\n",
    "        print(\"解压zip...\")\n",
    "        unzip(zip_filepath,dataset_path)\n",
    "        print(\"解压完成\")\n",
    "    #读取数据\n",
    "    data = pd.read_csv(dataset_filename,encoding='latin1',\n",
    "                         usecols=['gender', 'description', 'link_color',\n",
    "                                  'profileimage', 'sidebar_color', 'text']\n",
    "                      )\n",
    "    \n",
    "    #数据清洗\n",
    "    filtered_data=data[(data['gender'] == 'male') | (data['gender'] == 'female')]\n",
    "    filtered_data=filtered_data.dropna('subset'=['description'])\n",
    "    #过滤掉 'link_color' 列和 'sidebar_color' 列非法的16进制数据\n",
    "    filtered_data=filtered_data[filtered_data['link_color'].str.len() ==6]"
   ]
  },
  {
   "cell_type": "code",
   "execution_count": 32,
   "metadata": {},
   "outputs": [
    {
     "ename": "TypeError",
     "evalue": "'method' object is not subscriptable",
     "output_type": "error",
     "traceback": [
      "\u001b[1;31m---------------------------------------------------------------------------\u001b[0m",
      "\u001b[1;31mTypeError\u001b[0m                                 Traceback (most recent call last)",
      "\u001b[1;32m<ipython-input-32-c8c6d290ed1b>\u001b[0m in \u001b[0;36m<module>\u001b[1;34m()\u001b[0m\n\u001b[0;32m      1\u001b[0m \u001b[1;32mif\u001b[0m \u001b[0m__name__\u001b[0m \u001b[1;33m==\u001b[0m \u001b[1;34m'__main__'\u001b[0m\u001b[1;33m:\u001b[0m\u001b[1;33m\u001b[0m\u001b[0m\n\u001b[1;32m----> 2\u001b[1;33m     \u001b[0mrun_main\u001b[0m\u001b[1;33m(\u001b[0m\u001b[1;33m)\u001b[0m\u001b[1;33m\u001b[0m\u001b[0m\n\u001b[0m",
      "\u001b[1;32m<ipython-input-31-b3f68bbff135>\u001b[0m in \u001b[0;36mrun_main\u001b[1;34m()\u001b[0m\n\u001b[0;32m      1\u001b[0m \u001b[1;32mdef\u001b[0m \u001b[0mrun_main\u001b[0m\u001b[1;33m(\u001b[0m\u001b[1;33m)\u001b[0m\u001b[1;33m:\u001b[0m\u001b[1;33m\u001b[0m\u001b[0m\n\u001b[0;32m      2\u001b[0m     \u001b[1;34m'''主函数'''\u001b[0m\u001b[1;33m\u001b[0m\u001b[0m\n\u001b[1;32m----> 3\u001b[1;33m     \u001b[0mdataset_filename\u001b[0m \u001b[1;33m=\u001b[0m \u001b[0mget_dataset_filename\u001b[0m\u001b[1;33m(\u001b[0m\u001b[0mzip_filepath\u001b[0m\u001b[1;33m)\u001b[0m\u001b[1;33m\u001b[0m\u001b[0m\n\u001b[0m\u001b[0;32m      4\u001b[0m     \u001b[0mdataset_filepath\u001b[0m \u001b[1;33m=\u001b[0m \u001b[0mos\u001b[0m\u001b[1;33m.\u001b[0m\u001b[0mpath\u001b[0m\u001b[1;33m.\u001b[0m\u001b[0mjoin\u001b[0m\u001b[1;33m(\u001b[0m\u001b[0mdataset_path\u001b[0m\u001b[1;33m,\u001b[0m\u001b[0mdataset_filename\u001b[0m\u001b[1;33m)\u001b[0m\u001b[1;33m\u001b[0m\u001b[0m\n\u001b[0;32m      5\u001b[0m     \u001b[1;32mif\u001b[0m \u001b[0mis_first_run\u001b[0m\u001b[1;33m:\u001b[0m\u001b[1;33m\u001b[0m\u001b[0m\n",
      "\u001b[1;32m<ipython-input-30-0da9a30e6154>\u001b[0m in \u001b[0;36mget_dataset_filename\u001b[1;34m(zip_filpath)\u001b[0m\n\u001b[0;32m     12\u001b[0m     \u001b[1;34m'''获取文件名'''\u001b[0m\u001b[1;33m\u001b[0m\u001b[0m\n\u001b[0;32m     13\u001b[0m     \u001b[1;32mwith\u001b[0m \u001b[0mzipfile\u001b[0m\u001b[1;33m.\u001b[0m\u001b[0mZipFile\u001b[0m\u001b[1;33m(\u001b[0m\u001b[0mzip_filpath\u001b[0m\u001b[1;33m)\u001b[0m \u001b[1;32mas\u001b[0m \u001b[0mzf\u001b[0m\u001b[1;33m:\u001b[0m\u001b[1;33m\u001b[0m\u001b[0m\n\u001b[1;32m---> 14\u001b[1;33m         \u001b[1;32mreturn\u001b[0m \u001b[0mzf\u001b[0m\u001b[1;33m.\u001b[0m\u001b[0mnamelist\u001b[0m\u001b[1;33m[\u001b[0m\u001b[1;36m0\u001b[0m\u001b[1;33m]\u001b[0m\u001b[1;33m\u001b[0m\u001b[0m\n\u001b[0m\u001b[0;32m     15\u001b[0m \u001b[1;33m\u001b[0m\u001b[0m\n\u001b[0;32m     16\u001b[0m \u001b[1;32mdef\u001b[0m \u001b[0munzip\u001b[0m\u001b[1;33m(\u001b[0m\u001b[0mzip_filpath\u001b[0m\u001b[1;33m,\u001b[0m\u001b[0mdest_filepath\u001b[0m\u001b[1;33m)\u001b[0m\u001b[1;33m:\u001b[0m\u001b[1;33m\u001b[0m\u001b[0m\n",
      "\u001b[1;31mTypeError\u001b[0m: 'method' object is not subscriptable"
     ]
    }
   ],
   "source": [
    "if __name__ == '__main__':\n",
    "    run_main()"
   ]
  },
  {
   "cell_type": "code",
   "execution_count": null,
   "metadata": {},
   "outputs": [],
   "source": []
  }
 ],
 "metadata": {
  "kernelspec": {
   "display_name": "Python 3",
   "language": "python",
   "name": "python3"
  },
  "language_info": {
   "codemirror_mode": {
    "name": "ipython",
    "version": 3
   },
   "file_extension": ".py",
   "mimetype": "text/x-python",
   "name": "python",
   "nbconvert_exporter": "python",
   "pygments_lexer": "ipython3",
   "version": "3.6.4"
  }
 },
 "nbformat": 4,
 "nbformat_minor": 2
}
